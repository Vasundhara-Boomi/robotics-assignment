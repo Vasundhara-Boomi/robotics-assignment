{
  "cells": [
    {
      "cell_type": "markdown",
      "metadata": {
        "id": "3wF5wszaj97Y"
      },
      "source": [
        "## Assignment_2"
      ]
    },
    {
      "cell_type": "code",
      "execution_count": 1,
      "metadata": {
        "id": "0trJmd6DjqBZ"
      },
      "outputs": [],
      "source": [
        "import numpy as np\n",
        "import tensorflow as tf"
      ]
    },
    {
      "cell_type": "code",
      "execution_count": 2,
      "metadata": {
        "colab": {
          "base_uri": "https://localhost:8080/"
        },
        "id": "7FP5258xjs-v",
        "outputId": "4249683d-cb6f-4d5d-82c0-1a80e7269e68"
      },
      "outputs": [
        {
          "name": "stdout",
          "output_type": "stream",
          "text": [
            "Downloading data from https://storage.googleapis.com/tensorflow/tf-keras-datasets/mnist.npz\n",
            "11493376/11490434 [==============================] - 0s 0us/step\n",
            "x_train shape: (60000, 28, 28, 1)\n"
          ]
        }
      ],
      "source": [
        "# Model / data parameters\n",
        "num_classes = 10\n",
        "input_shape = (28, 28, 1)\n",
        "\n",
        "# the data, split between train and test sets\n",
        "(x_train, y_train), (x_test, y_test) = tf.keras.datasets.mnist.load_data()\n",
        "\n",
        "# Scale images to the [0, 1] range\n",
        "x_train = x_train.astype(\"float32\") / 255\n",
        "x_test = x_test.astype(\"float32\") / 255\n",
        "\n",
        "# # Make sure images have shape (28, 28, 1)\n",
        "x_train = np.expand_dims(x_train, axis=-1)\n",
        "x_test = np.expand_dims(x_test, axis=-1)\n",
        "print(\"x_train shape:\", x_train.shape)      \n"
      ]
    },
    {
      "cell_type": "code",
      "execution_count": 3,
      "metadata": {
        "colab": {
          "base_uri": "https://localhost:8080/"
        },
        "id": "i7eMQwJMbE1y",
        "outputId": "415862d7-8b6c-4410-9053-9b70346cadda"
      },
      "outputs": [
        {
          "name": "stdout",
          "output_type": "stream",
          "text": [
            "(60000,)\n",
            "(60000, 10)\n"
          ]
        }
      ],
      "source": [
        "# Print the shape of y_train before conversion\n",
        "print(y_train.shape)\n",
        "\n",
        "# Convert label vectors to binary class matrices using one-hot encoding\n",
        "# Here, y_train and y_test are converted to categorical format with 'num_classes' possible classes\n",
        "# This function converts a class vector (integers) to binary class matrix using Keras's to_categorical function\n",
        "# It transforms integer indices to a binary matrix representation where each row corresponds to a class, and columns represent the classes\n",
        "y_train = tf.keras.utils.to_categorical(y_train, num_classes)\n",
        "y_test = tf.keras.utils.to_categorical(y_test, num_classes)\n",
        "\n",
        "# Print the shape of y_train after conversion\n",
        "print(y_train.shape)"
      ]
    },
    {
      "cell_type": "code",
      "execution_count": 16,
      "metadata": {
        "colab": {
          "base_uri": "https://localhost:8080/"
        },
        "id": "h3IKyzTCDNGo",
        "outputId": "753e370a-af5d-4234-9f86-82ba5d000bd2"
      },
      "outputs": [
        {
          "name": "stdout",
          "output_type": "stream",
          "text": [
            "Model: \"sequential_3\"\n",
            "_________________________________________________________________\n",
            " Layer (type)                Output Shape              Param #   \n",
            "=================================================================\n",
            " flatten_3 (Flatten)         (None, 784)               0         \n",
            "                                                                 \n",
            " dense_9 (Dense)             (None, 1024)              803840    \n",
            "                                                                 \n",
            " dense_10 (Dense)            (None, 1024)              1049600   \n",
            "                                                                 \n",
            " dense_11 (Dense)            (None, 10)                10250     \n",
            "                                                                 \n",
            "=================================================================\n",
            "Total params: 1863690 (7.11 MB)\n",
            "Trainable params: 1863690 (7.11 MB)\n",
            "Non-trainable params: 0 (0.00 Byte)\n",
            "_________________________________________________________________\n"
          ]
        }
      ],
      "source": [
        "model = tf.keras.models.Sequential([\n",
        "    # Define the input layer with a specified input shape\n",
        "                      tf.keras.Input(shape=input_shape),\n",
        "    # Flatten layer: Converts multi-dimensional data into a 1D array\n",
        "                      tf.keras.layers.Flatten(),\n",
        "    # Dense layer 1: It's a hidden layer that processes input from the previous layer\n",
        "                      tf.keras.layers.Dense(1024, activation='relu'),\n",
        "    # Dense layer 2: Adds another hidden layer for learning complex patterns in the data\n",
        "                      tf.keras.layers.Dense(1024, activation='relu'),\n",
        "    # Dense output layer: Final fully connected layer with 10 units/neurons\n",
        "                      tf.keras.layers.Dense(10, activation = 'softmax')\n",
        "])\n",
        "\n",
        "model.summary()"
      ]
    },
    {
      "cell_type": "code",
      "execution_count": 7,
      "metadata": {
        "colab": {
          "base_uri": "https://localhost:8080/"
        },
        "id": "t3CqTnX1cVeM",
        "outputId": "6c68e234-d006-4c06-eedd-549833a65b2b"
      },
      "outputs": [
        {
          "name": "stdout",
          "output_type": "stream",
          "text": [
            "Epoch 1/2\n",
            "422/422 [==============================] - 4s 7ms/step - loss: 0.2938 - accuracy: 0.9160 - val_loss: 0.1272 - val_accuracy: 0.9633\n",
            "Epoch 2/2\n",
            "422/422 [==============================] - 3s 6ms/step - loss: 0.1113 - accuracy: 0.9666 - val_loss: 0.0853 - val_accuracy: 0.9740\n"
          ]
        },
        {
          "data": {
            "text/plain": [
              "<tensorflow.python.keras.callbacks.History at 0x7f5dcb015f50>"
            ]
          },
          "execution_count": 7,
          "metadata": {
            "tags": []
          },
          "output_type": "execute_result"
        }
      ],
      "source": [
        "batch_size = 128\n",
        "epochs = 2\n",
        "\n",
        "# Compiling the model by specifying loss function, optimizer, and metrics for evaluation\n",
        "model.compile(loss=\"categorical_crossentropy\", optimizer=\"adam\", metrics=[\"accuracy\"])\n",
        "\n",
        "# Fitting the model on training data    \n",
        "model.fit(x_train, y_train, batch_size=batch_size, epochs=epochs, validation_split=0.1)"
      ]
    },
    {
      "cell_type": "code",
      "execution_count": 8,
      "metadata": {
        "colab": {
          "base_uri": "https://localhost:8080/"
        },
        "id": "F7dTAzgHDUh7",
        "outputId": "e99f6925-fee7-4b99-e4a4-5074d9e6f47a"
      },
      "outputs": [
        {
          "name": "stdout",
          "output_type": "stream",
          "text": [
            "313/313 - 0s - loss: 0.0927 - accuracy: 0.9724\n"
          ]
        },
        {
          "data": {
            "text/plain": [
              "[0.09270141273736954, 0.9724000096321106]"
            ]
          },
          "execution_count": 8,
          "metadata": {
            "tags": []
          },
          "output_type": "execute_result"
        }
      ],
      "source": [
        "model.evaluate(x_test,  y_test, verbose=2)"
      ]
    }
  ],
  "metadata": {
    "colab": {
      "collapsed_sections": [
        "rX8mhOLljYeM"
      ],
      "name": "Week_2_Mnist_ANN.ipynb",
      "provenance": []
    },
    "kernelspec": {
      "display_name": "Python 3",
      "name": "python3"
    }
  },
  "nbformat": 4,
  "nbformat_minor": 0
}
